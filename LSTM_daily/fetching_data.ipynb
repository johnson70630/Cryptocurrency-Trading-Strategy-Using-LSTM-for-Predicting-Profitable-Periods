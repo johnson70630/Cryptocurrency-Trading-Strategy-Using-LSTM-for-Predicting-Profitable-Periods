{
 "cells": [
  {
   "cell_type": "code",
   "execution_count": 1,
   "metadata": {},
   "outputs": [],
   "source": [
    "import pandas as pd\n",
    "import config\n",
    "from binance.client import Client"
   ]
  },
  {
   "cell_type": "code",
   "execution_count": 2,
   "metadata": {},
   "outputs": [],
   "source": [
    "api_key = config.api_key\n",
    "api_secret = config.api_secret\n",
    "\n",
    "client = Client(api_key, api_secret)"
   ]
  },
  {
   "cell_type": "markdown",
   "metadata": {},
   "source": [
    "## BTC-USDC Spot Market Data"
   ]
  },
  {
   "cell_type": "code",
   "execution_count": 3,
   "metadata": {},
   "outputs": [],
   "source": [
    "# Function to fetch spot market data\n",
    "def fetch_binance_spot_data(symbol, interval, start_str, end_str):\n",
    "    klines = client.get_historical_klines(symbol, interval, start_str, end_str)\n",
    "    df = pd.DataFrame(klines, columns=[\n",
    "        'timestamp', 'open', 'high', 'low', 'close', 'volume',\n",
    "        'close_time', 'quote_asset_volume', 'number_of_trades',\n",
    "        'taker_buy_base_asset_volume', 'taker_buy_quote_asset_volume', 'ignore'\n",
    "    ])\n",
    "    df['timestamp'] = pd.to_datetime(df['timestamp'], unit='ms')\n",
    "    df.set_index('timestamp', inplace=True)\n",
    "    df = df.astype(float)\n",
    "    return df"
   ]
  },
  {
   "cell_type": "code",
   "execution_count": 4,
   "metadata": {},
   "outputs": [],
   "source": [
    "# Parameters\n",
    "symbol_spot = 'BTCUSDC'\n",
    "interval_spot = Client.KLINE_INTERVAL_1DAY\n",
    "start_str_spot = '2021-01-01'\n",
    "end_str_spot = '2024-05-31'"
   ]
  },
  {
   "cell_type": "code",
   "execution_count": 5,
   "metadata": {},
   "outputs": [
    {
     "name": "stdout",
     "output_type": "stream",
     "text": [
      "                open      high       low     close       volume    close_time  \\\n",
      "timestamp                                                                       \n",
      "2021-01-01  28964.54  29680.00  28608.73  29407.93  1736.620480  1.609546e+12   \n",
      "2021-01-02  29393.99  33500.00  29027.03  32215.18  4227.234681  1.609632e+12   \n",
      "2021-01-03  32216.13  34851.30  32002.65  33033.26  3523.881120  1.609718e+12   \n",
      "2021-01-04  33040.00  33648.27  28000.00  32017.58  4218.572357  1.609805e+12   \n",
      "2021-01-05  32027.11  34498.00  29882.30  34059.70  3150.244271  1.609891e+12   \n",
      "\n",
      "            quote_asset_volume  number_of_trades  taker_buy_base_asset_volume  \\\n",
      "timestamp                                                                       \n",
      "2021-01-01        5.084403e+07           28084.0                   782.686746   \n",
      "2021-01-02        1.327970e+08           51652.0                  2378.789351   \n",
      "2021-01-03        1.179675e+08           52963.0                  1907.369385   \n",
      "2021-01-04        1.327577e+08           66533.0                  1955.840093   \n",
      "2021-01-05        1.023480e+08           51459.0                  1632.076417   \n",
      "\n",
      "            taker_buy_quote_asset_volume  ignore  \n",
      "timestamp                                         \n",
      "2021-01-01                  2.292730e+07     0.0  \n",
      "2021-01-02                  7.470016e+07     0.0  \n",
      "2021-01-03                  6.380314e+07     0.0  \n",
      "2021-01-04                  6.144536e+07     0.0  \n",
      "2021-01-05                  5.317519e+07     0.0  \n"
     ]
    }
   ],
   "source": [
    "# Fetch the data and save to CSV\n",
    "df_spot = fetch_binance_spot_data(symbol_spot, interval_spot, start_str_spot, end_str_spot)\n",
    "df_spot.to_csv('data/btc_usdc_spot_data.csv')\n",
    "print(df_spot.head())"
   ]
  },
  {
   "cell_type": "markdown",
   "metadata": {},
   "source": [
    "## BTC-USDC Futures Market Data"
   ]
  },
  {
   "cell_type": "code",
   "execution_count": 6,
   "metadata": {},
   "outputs": [],
   "source": [
    "# Function to fetch futures market data\n",
    "def fetch_binance_futures_data(client, symbol, interval, start_str, end_str):\n",
    "    klines = client.futures_historical_klines(symbol, interval, start_str, end_str)\n",
    "    df = pd.DataFrame(klines, columns=[\n",
    "        'timestamp', 'open', 'high', 'low', 'close', 'volume',\n",
    "        'close_time', 'quote_asset_volume', 'number_of_trades',\n",
    "        'taker_buy_base_asset_volume', 'taker_buy_quote_asset_volume', 'ignore'\n",
    "    ])\n",
    "    df['timestamp'] = pd.to_datetime(df['timestamp'], unit='ms')\n",
    "    df.set_index('timestamp', inplace=True)\n",
    "    df = df.astype(float)\n",
    "    return df"
   ]
  },
  {
   "cell_type": "code",
   "execution_count": 7,
   "metadata": {},
   "outputs": [],
   "source": [
    "# Parameters\n",
    "symbol_futures = 'BTCUSDC'\n",
    "interval_futures = Client.KLINE_INTERVAL_1DAY  # 1-day interval\n",
    "start_str_futures = '2021-01-01'\n",
    "end_str_futures = '2024-05-31'"
   ]
  },
  {
   "cell_type": "code",
   "execution_count": 8,
   "metadata": {},
   "outputs": [
    {
     "name": "stdout",
     "output_type": "stream",
     "text": [
      "                open      high       low     close       volume    close_time  \\\n",
      "timestamp                                                                       \n",
      "2021-01-01  28964.54  29680.00  28608.73  29407.93  1736.620480  1.609546e+12   \n",
      "2021-01-02  29393.99  33500.00  29027.03  32215.18  4227.234681  1.609632e+12   \n",
      "2021-01-03  32216.13  34851.30  32002.65  33033.26  3523.881120  1.609718e+12   \n",
      "2021-01-04  33040.00  33648.27  28000.00  32017.58  4218.572357  1.609805e+12   \n",
      "2021-01-05  32027.11  34498.00  29882.30  34059.70  3150.244271  1.609891e+12   \n",
      "\n",
      "            quote_asset_volume  number_of_trades  taker_buy_base_asset_volume  \\\n",
      "timestamp                                                                       \n",
      "2021-01-01        5.084403e+07           28084.0                   782.686746   \n",
      "2021-01-02        1.327970e+08           51652.0                  2378.789351   \n",
      "2021-01-03        1.179675e+08           52963.0                  1907.369385   \n",
      "2021-01-04        1.327577e+08           66533.0                  1955.840093   \n",
      "2021-01-05        1.023480e+08           51459.0                  1632.076417   \n",
      "\n",
      "            taker_buy_quote_asset_volume  ignore  \n",
      "timestamp                                         \n",
      "2021-01-01                  2.292730e+07     0.0  \n",
      "2021-01-02                  7.470016e+07     0.0  \n",
      "2021-01-03                  6.380314e+07     0.0  \n",
      "2021-01-04                  6.144536e+07     0.0  \n",
      "2021-01-05                  5.317519e+07     0.0  \n"
     ]
    }
   ],
   "source": [
    "# Fetch the data\n",
    "df_futures = fetch_binance_futures_data(client, symbol_futures, interval_futures, start_str_futures, end_str_futures)\n",
    "df_futures.to_csv('data/btc_usdc_futures_data.csv')\n",
    "print(df_futures.head())"
   ]
  },
  {
   "cell_type": "markdown",
   "metadata": {},
   "source": [
    "## BTC Funding Rate Data"
   ]
  },
  {
   "cell_type": "code",
   "execution_count": 9,
   "metadata": {},
   "outputs": [],
   "source": [
    "# Function to fetch funding rate data\n",
    "def fetch_binance_funding_rate(client, symbol, start_str, end_str=None):\n",
    "    df_list = []\n",
    "    start_time = pd.to_datetime(start_str)\n",
    "    end_time = pd.to_datetime(end_str) if end_str else pd.Timestamp.now()\n",
    "\n",
    "    while start_time < end_time:\n",
    "        funding_rates = client.futures_funding_rate(\n",
    "            symbol=symbol,\n",
    "            startTime=int(start_time.timestamp() * 1000),\n",
    "            endTime=int(end_time.timestamp() * 1000),\n",
    "            limit=1000\n",
    "        )\n",
    "        if not funding_rates:\n",
    "            break\n",
    "        df = pd.DataFrame(funding_rates)\n",
    "        df['fundingTime'] = pd.to_datetime(df['fundingTime'], unit='ms')\n",
    "        df_list.append(df)\n",
    "        start_time = df['fundingTime'].iloc[-1] + pd.Timedelta(milliseconds=1)  # Update start_time to the last fetched timestamp\n",
    "    \n",
    "    all_data = pd.concat(df_list)\n",
    "    all_data.set_index('fundingTime', inplace=True)\n",
    "    return all_data\n",
    "\n",
    "# Function to calculate daily average funding rate\n",
    "def calculate_daily_average_funding_rate(df):\n",
    "    df_daily_avg = df.resample('D').mean()\n",
    "    return df_daily_avg"
   ]
  },
  {
   "cell_type": "code",
   "execution_count": 10,
   "metadata": {},
   "outputs": [],
   "source": [
    "# Parameters\n",
    "symbol_funding = 'BTCUSDT'\n",
    "start_str_funding = '2021-01-01'\n",
    "end_str_funding = '2024-05-31'"
   ]
  },
  {
   "cell_type": "code",
   "execution_count": 11,
   "metadata": {},
   "outputs": [
    {
     "name": "stdout",
     "output_type": "stream",
     "text": [
      "             fundingRate\n",
      "fundingTime             \n",
      "2021-01-01      0.000278\n",
      "2021-01-02      0.000485\n",
      "2021-01-03      0.001313\n",
      "2021-01-04      0.001522\n",
      "2021-01-05      0.000661\n"
     ]
    },
    {
     "name": "stderr",
     "output_type": "stream",
     "text": [
      "/var/folders/rc/by_5fr2d2ds3vzb0s0qcn32r0000gn/T/ipykernel_61252/3699113751.py:27: FutureWarning: The default value of numeric_only in DataFrameGroupBy.mean is deprecated. In a future version, numeric_only will default to False. Either specify numeric_only or select only columns which should be valid for the function.\n",
      "  df_daily_avg = df.resample('D').mean()\n"
     ]
    }
   ],
   "source": [
    "# Fetch the data\n",
    "df_funding = fetch_binance_funding_rate(client, symbol_funding, start_str_funding, end_str_funding)\n",
    "\n",
    "# Convert relevant columns to float\n",
    "numeric_columns = ['fundingRate']\n",
    "df_funding[numeric_columns] = df_funding[numeric_columns].astype(float)\n",
    "\n",
    "# Calculate daily average funding rate\n",
    "df_daily_avg_funding = calculate_daily_average_funding_rate(df_funding)\n",
    "\n",
    "# Save to CSV\n",
    "df_daily_avg_funding.to_csv('data/btc_usdt_daily_avg_funding_rate.csv')\n",
    "print(df_daily_avg_funding.head())"
   ]
  },
  {
   "cell_type": "markdown",
   "metadata": {},
   "source": [
    "## USDC Price Data"
   ]
  },
  {
   "cell_type": "code",
   "execution_count": 12,
   "metadata": {},
   "outputs": [],
   "source": [
    "# Parameters for USDC price\n",
    "symbol_usdc = 'USDCUSDT'\n",
    "interval_usdc = Client.KLINE_INTERVAL_1DAY\n",
    "start_str_usdc = '2021-01-01'\n",
    "end_str_usdc = '2024-05-31'"
   ]
  },
  {
   "cell_type": "code",
   "execution_count": 13,
   "metadata": {},
   "outputs": [
    {
     "name": "stdout",
     "output_type": "stream",
     "text": [
      "              open    high     low   close        volume    close_time  \\\n",
      "timestamp                                                                \n",
      "2021-01-01  0.9986  0.9986  0.9966  0.9974  6.768929e+07  1.609546e+12   \n",
      "2021-01-02  0.9974  1.0009  0.9970  0.9989  1.515834e+08  1.609632e+12   \n",
      "2021-01-03  0.9990  1.0011  0.9898  0.9992  1.907760e+08  1.609718e+12   \n",
      "2021-01-04  0.9991  1.0014  0.9891  0.9994  2.186078e+08  1.609805e+12   \n",
      "2021-01-05  0.9994  0.9998  0.9961  0.9969  1.301291e+08  1.609891e+12   \n",
      "\n",
      "            quote_asset_volume  number_of_trades  taker_buy_base_asset_volume  \\\n",
      "timestamp                                                                       \n",
      "2021-01-01        6.754410e+07           41921.0                 3.145614e+07   \n",
      "2021-01-02        1.513376e+08           61430.0                 7.562928e+07   \n",
      "2021-01-03        1.904469e+08           79609.0                 1.006859e+08   \n",
      "2021-01-04        2.182290e+08           96742.0                 1.130549e+08   \n",
      "2021-01-05        1.299297e+08           65837.0                 6.054070e+07   \n",
      "\n",
      "            taker_buy_quote_asset_volume  ignore  \n",
      "timestamp                                         \n",
      "2021-01-01                  3.138807e+07     0.0  \n",
      "2021-01-02                  7.550598e+07     0.0  \n",
      "2021-01-03                  1.005057e+08     0.0  \n",
      "2021-01-04                  1.128404e+08     0.0  \n",
      "2021-01-05                  6.045029e+07     0.0  \n"
     ]
    }
   ],
   "source": [
    "# Fetch the data and save to CSV\n",
    "df_usdc = fetch_binance_spot_data(symbol_usdc, interval_usdc, start_str_usdc, end_str_usdc)\n",
    "df_usdc.to_csv('data/usdc_usdt_price.csv')\n",
    "print(df_usdc.head())"
   ]
  },
  {
   "cell_type": "markdown",
   "metadata": {},
   "source": [
    "## BTC VIX Data"
   ]
  },
  {
   "cell_type": "code",
   "execution_count": 14,
   "metadata": {},
   "outputs": [
    {
     "name": "stdout",
     "output_type": "stream",
     "text": [
      "            volatility\n",
      "timestamp             \n",
      "2021-01-01         NaN\n",
      "2021-01-02         NaN\n",
      "2021-01-03         NaN\n",
      "2021-01-04         NaN\n",
      "2021-01-05         NaN\n"
     ]
    }
   ],
   "source": [
    "# Calculate daily returns\n",
    "df_futures['daily_return'] = df_futures['close'].pct_change()\n",
    "\n",
    "# Calculate rolling volatility (standard deviation of daily returns)\n",
    "df_futures['volatility'] = df_futures['daily_return'].rolling(window=30).std() * (365**0.5)\n",
    "\n",
    "# Save the volatility data to CSV\n",
    "df_futures[['volatility']].dropna().to_csv('data/btc_usdc_volatility.csv')\n",
    "print(df_futures[['volatility']].head())"
   ]
  }
 ],
 "metadata": {
  "kernelspec": {
   "display_name": "base",
   "language": "python",
   "name": "python3"
  },
  "language_info": {
   "codemirror_mode": {
    "name": "ipython",
    "version": 3
   },
   "file_extension": ".py",
   "mimetype": "text/x-python",
   "name": "python",
   "nbconvert_exporter": "python",
   "pygments_lexer": "ipython3",
   "version": "3.1.-1"
  }
 },
 "nbformat": 4,
 "nbformat_minor": 2
}
